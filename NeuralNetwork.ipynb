{
 "metadata": {
  "language_info": {
   "codemirror_mode": {
    "name": "ipython",
    "version": 3
   },
   "file_extension": ".py",
   "mimetype": "text/x-python",
   "name": "python",
   "nbconvert_exporter": "python",
   "pygments_lexer": "ipython3",
   "version": "3.7.6-final"
  },
  "orig_nbformat": 2,
  "kernelspec": {
   "name": "python37664bitbaseconda64008467e023409abc32ae4bd084aa93",
   "display_name": "Python 3.7.6 64-bit ('base': conda)",
   "language": "python"
  }
 },
 "nbformat": 4,
 "nbformat_minor": 2,
 "cells": [
  {
   "source": [
    "<h1 align=center style=\"color: #005496; font-size: 4.2em;\">University of Trento</h1>\n",
    "<h2 align=center>Assignment on Neural Networks</h2>\n",
    "<h3 align=center>Machine Learning Course, Prof. Andrea Passerini - A.Y. 2019/2020</h3>\n",
    "<h4 align=center>Giuseppe Saccardi</h4>\n",
    "\n",
    "***\n",
    "This assignment consists in solving a classification task using TensorFlow over the OCR dataset. The dataset is already split into training and test sets, moreover the data are contained in the folder named ***ocr*** .\n",
    "\n",
    "My objective is to train a deep neural network withat least 3 convolutional layers on the training set and predict the labels on the test set. To pass the assignment and move to the oral examination, the implemented network has to classify the examples in the test set with higher accuracy than the reference base line for the dataset.\n",
    "\n",
    "Additionally,model selection (optimize at least one hyperparameter) is required to pass the assignment. To this purpose, it is necessary to test my algorithm over a validation set."
   ],
   "cell_type": "markdown",
   "metadata": {}
  },
  {
   "source": [
    "## The Dataset\n",
    "The data we had consist of two pairs of files, each of them containing a set\n",
    "of data (16x8 bitmap images representing handwritten characters) and a set of\n",
    "targets. The first pair contains 41721 examples for training, whereas the other\n",
    "one 10431 instances for testing"
   ],
   "cell_type": "markdown",
   "metadata": {}
  },
  {
   "cell_type": "code",
   "execution_count": 1,
   "metadata": {},
   "outputs": [],
   "source": [
    "import tensorflow as tf\n",
    "import numpy as np\n",
    "import pandas as pd\n",
    "%matplotlib inline\n",
    "import matplotlib.pyplot as plt\n",
    "\n",
    "\n",
    "# Loading dataset\n",
    "data_train = np.loadtxt(\"ocr/train-data.csv\",delimiter = \",\")\n",
    "data_test = np.loadtxt(\"ocr/test-data.csv\",delimiter = \",\")\n",
    "targets_train = np.array(pd.read_csv(\"ocr/train-target.csv\",sep='\\t',header = None))\n",
    "targets_test = np.array(pd.read_csv(\"ocr/test-target.csv\",sep='\\t', header = None))"
   ]
  },
  {
   "cell_type": "code",
   "execution_count": 2,
   "metadata": {},
   "outputs": [
    {
     "output_type": "execute_result",
     "data": {
      "text/plain": [
       "array([0., 0., 0., 0., 0., 1., 0., 0., 0., 0., 0., 0., 0., 1., 0., 0., 0.,\n",
       "       0., 0., 0., 0., 1., 0., 0., 0., 0., 0., 0., 0., 1., 1., 0., 0., 0.,\n",
       "       0., 0., 0., 0., 1., 0., 0., 0., 0., 0., 0., 0., 1., 0., 0., 0., 0.,\n",
       "       0., 0., 0., 1., 0., 0., 0., 0., 0., 0., 0., 1., 0., 0., 0., 0., 0.,\n",
       "       0., 0., 1., 0., 0., 0., 1., 1., 1., 1., 1., 0., 0., 1., 1., 0., 0.,\n",
       "       0., 1., 0., 0., 1., 0., 0., 0., 0., 1., 0., 1., 1., 0., 0., 0., 0.,\n",
       "       1., 1., 1., 0., 0., 0., 0., 1., 1., 1., 1., 0., 0., 0., 1., 1., 0.,\n",
       "       1., 1., 1., 1., 1., 1., 0., 0., 0.])"
      ]
     },
     "metadata": {},
     "execution_count": 2
    }
   ],
   "source": [
    "data_train[0]"
   ]
  },
  {
   "cell_type": "code",
   "execution_count": 3,
   "metadata": {},
   "outputs": [
    {
     "output_type": "execute_result",
     "data": {
      "text/plain": [
       "array([1., 1., 1., 0., 0., 0., 0., 0., 1., 0., 0., 1., 0., 0., 0., 0., 1.,\n",
       "       1., 0., 1., 0., 0., 0., 0., 0., 1., 1., 1., 1., 0., 0., 0., 0., 0.,\n",
       "       0., 0., 1., 0., 0., 0., 0., 0., 0., 0., 1., 1., 0., 0., 0., 0., 0.,\n",
       "       0., 0., 1., 0., 0., 0., 0., 0., 0., 0., 1., 1., 0., 0., 0., 0., 0.,\n",
       "       0., 0., 1., 0., 0., 0., 0., 0., 0., 0., 1., 0., 0., 0., 0., 0., 0.,\n",
       "       0., 1., 0., 0., 0., 0., 0., 0., 0., 1., 0., 0., 0., 0., 0., 0., 0.,\n",
       "       1., 1., 0., 0., 0., 0., 0., 0., 0., 1., 0., 0., 0., 0., 0., 0., 1.,\n",
       "       1., 0., 1., 1., 1., 1., 1., 1., 0.])"
      ]
     },
     "metadata": {},
     "execution_count": 3
    }
   ],
   "source": [
    "data_test[0]"
   ]
  },
  {
   "source": [
    "## Deep architectures\n",
    "\n",
    "<p>\n",
    "We are now going to define a deep neural network.  Moreover we are going to use three convolutional layers alternated with 2 max pool layers, followed by a fully connected layer regularized with dropout, and finally we'll get predictions using again a softmax layer. Here you see a schematic view of the architecture (bottom up). \n",
    "</p>\n",
    "\n",
    "<img src=\"arch.png\" style=\"width: 350px\" />\n",
    "\n",
    "***\n",
    "\n",
    "### Fully Connected Layer\n",
    "In a fully connected layer each neuron is connected with each neuron of the previous layer. This is the most straightforward way to implement a Neural Network.\n",
    "\n",
    "<img src=\"https://res.cloudinary.com/dyd911kmh/image/upload/f_auto,q_auto:best/v1547672259/3_qwv5gr.png\" width=\"750px\" />\n",
    "\n",
    "***\n",
    "\n",
    "\n",
    "### Convolutional layer\n",
    "\n",
    "Convolutional Neural Networks are based on a method for extracting meaningfull features from images, exploiting locality and parameter sharing between \"close\" pixels. In particular, a convolutional layer takes as input a matrix and divides it into smaller \"patches\". It outputs a number of features for each patch. The resulting tensor will be similar to the one in the following picture.\n",
    "\n",
    "<img src=\"https://upload.wikimedia.org/wikipedia/commons/6/68/Conv_layer.png\" width=\"400px\" />\n",
    "<img src=\"https://raw.githubusercontent.com/vdumoulin/conv_arithmetic/master/gif/no_padding_no_strides.gif\" width=\"250px\" />\n",
    "\n",
    "Applying a convolution reduces the height and the width of the \n",
    "input image. This effect is not always desirable. \n",
    "In order to avoid it, we must add some empty data around our images.\n",
    "This data (usually containing zeros) is called *padding*\n",
    "\n",
    "\n",
    "\n",
    "<img src=\"https://github.com/vdumoulin/conv_arithmetic/raw/master/gif/same_padding_no_strides.gif\" width=\"400px\" />\n",
    "\n",
    "\n",
    "***\n",
    "\n",
    "### Max pool layer\n",
    "\n",
    "The max pool layer is a filter that is used to reduce the number of the input dimensions between two convolutional layers. It is useful for dimensionality reduction, it avoids overfitting, etc. The following is a simple example:\n",
    "\n",
    "<img src=\"http://www.wildml.com/wp-content/uploads/2015/11/Screen-Shot-2015-11-05-at-2.18.38-PM.png\" width=\"400px\" />\n",
    "\n",
    "***\n",
    "\n",
    "### ReLU layer\n",
    "\n",
    "Rectified Linear Unit (ReLU) is a particular activation function of the type: $max(0, \\theta)$. ReLUs have become very wide spread thanks to the fact, differently from sigmoids, that they do not saturate the gradient when used with backpropagation. This has enabled neural networks to become deeper and to increase their representational power. The following image compares several activation functions and their gradients.\n",
    "\n",
    "\n",
    "***\n",
    "\n",
    "### Dropout\n",
    "\n",
    "Dropout is a regularization technique for neural networks. When using dropout, we set a probability for dropping random nodes from the networks at each gradient descent step. In this way, the network is going to learn a more robust model, not relying too much on a single node for a prediction. In some sense, using dropout we are \"sampling\" a lot of different networks and learning them, and finally we are left with the \"average\" network, which is less susceptible to outliers. Dropouts also helps in avoiding overfitting.\n",
    "\n",
    "<img src=\"https://pgaleone.eu/images/dropout/dropout.jpeg\" width=\"400px\" />\n",
    "\n",
    "***"
   ],
   "cell_type": "markdown",
   "metadata": {}
  },
  {
   "source": [
    "## Data Manipulation\n",
    "We are going to perform suitable data manipulation before to implement our Deep Model\n",
    "### Padding"
   ],
   "cell_type": "markdown",
   "metadata": {}
  },
  {
   "cell_type": "code",
   "execution_count": 4,
   "metadata": {},
   "outputs": [],
   "source": [
    "# Manipulation needed for computational reason\n",
    "x = list()\n",
    "for element_dt in data_train:\n",
    "  element_dt = element_dt.reshape((16,8))\n",
    "  M_dt = np.zeros(shape=(16,4))\n",
    "  element_dt = np.concatenate((element_dt,M_dt), axis=1)\n",
    "  element_dt = np.concatenate((M_dt,element_dt), axis=1)\n",
    "  x.append(element_dt)\n",
    "data_train = np.array(x)\n",
    "y = list()\n",
    "for element_test in data_test:\n",
    "  element_test = element_test.reshape((16,8))\n",
    "  M_test = np.zeros(shape=(16,4))\n",
    "  element_test = np.concatenate((element_test,M_test), axis=1)\n",
    "  element_test = np.concatenate((M_test,element_test), axis=1)\n",
    "  y.append(element_test)\n",
    "data_test = np.array(y)"
   ]
  },
  {
   "cell_type": "code",
   "execution_count": 5,
   "metadata": {},
   "outputs": [
    {
     "output_type": "execute_result",
     "data": {
      "text/plain": [
       "array([[0., 0., 0., 0., 0., 0., 0., 0., 0., 1., 0., 0., 0., 0., 0., 0.],\n",
       "       [0., 0., 0., 0., 0., 0., 0., 0., 0., 1., 0., 0., 0., 0., 0., 0.],\n",
       "       [0., 0., 0., 0., 0., 0., 0., 0., 0., 1., 0., 0., 0., 0., 0., 0.],\n",
       "       [0., 0., 0., 0., 0., 0., 0., 0., 0., 1., 1., 0., 0., 0., 0., 0.],\n",
       "       [0., 0., 0., 0., 0., 0., 0., 0., 0., 0., 1., 0., 0., 0., 0., 0.],\n",
       "       [0., 0., 0., 0., 0., 0., 0., 0., 0., 0., 1., 0., 0., 0., 0., 0.],\n",
       "       [0., 0., 0., 0., 0., 0., 0., 0., 0., 0., 1., 0., 0., 0., 0., 0.],\n",
       "       [0., 0., 0., 0., 0., 0., 0., 0., 0., 0., 1., 0., 0., 0., 0., 0.],\n",
       "       [0., 0., 0., 0., 0., 0., 0., 0., 0., 0., 1., 0., 0., 0., 0., 0.],\n",
       "       [0., 0., 0., 0., 0., 0., 1., 1., 1., 1., 1., 0., 0., 0., 0., 0.],\n",
       "       [0., 0., 0., 0., 0., 1., 1., 0., 0., 0., 1., 0., 0., 0., 0., 0.],\n",
       "       [0., 0., 0., 0., 0., 1., 0., 0., 0., 0., 1., 0., 0., 0., 0., 0.],\n",
       "       [0., 0., 0., 0., 1., 1., 0., 0., 0., 0., 1., 1., 0., 0., 0., 0.],\n",
       "       [0., 0., 0., 0., 1., 0., 0., 0., 0., 1., 1., 1., 0., 0., 0., 0.],\n",
       "       [0., 0., 0., 0., 1., 0., 0., 0., 1., 1., 0., 1., 0., 0., 0., 0.],\n",
       "       [0., 0., 0., 0., 1., 1., 1., 1., 1., 0., 0., 0., 0., 0., 0., 0.]])"
      ]
     },
     "metadata": {},
     "execution_count": 5
    }
   ],
   "source": [
    "data_train[0]"
   ]
  },
  {
   "source": [
    "### Trasformation of the output"
   ],
   "cell_type": "markdown",
   "metadata": {}
  },
  {
   "cell_type": "code",
   "execution_count": 6,
   "metadata": {},
   "outputs": [],
   "source": [
    "# Convert test to numbers using a particular corrispondence letter/number\n",
    "targets_train = np.array([ord(element[0]) for element in targets_train])\n",
    "targets_test = np.array([ord(element[0]) for element in targets_test])\n",
    "min_val = ord('a')\n",
    "targets_train = targets_train - min_val\n",
    "targets_test = targets_test - min_val\n",
    "n_outputs = 26"
   ]
  },
  {
   "source": [
    "## Model Definition, Validation, Train and Test\n",
    "We are going to select the metrics, the optimizer and the model structure we are going to develop in order to solve the classification problem related to the ocr dataset"
   ],
   "cell_type": "markdown",
   "metadata": {}
  },
  {
   "cell_type": "code",
   "execution_count": 7,
   "metadata": {},
   "outputs": [],
   "source": [
    "from tensorflow.keras import Model\n",
    "from tensorflow.keras.layers import Softmax, Flatten\n",
    "from datetime import datetime\n",
    "\n",
    "from sklearn.model_selection import train_test_split\n",
    "from tensorflow.keras.layers import MaxPool2D, Dropout"
   ]
  },
  {
   "source": [
    "### Metric Definition\n",
    "The metric definition we are going to adopt to train our model"
   ],
   "cell_type": "markdown",
   "metadata": {}
  },
  {
   "cell_type": "code",
   "execution_count": 8,
   "metadata": {},
   "outputs": [],
   "source": [
    "train_loss_metric = tf.keras.metrics.Mean()\n",
    "train_accuracy_metric = tf.keras.metrics.CategoricalAccuracy()\n",
    "test_loss_metric = tf.keras.metrics.Mean()\n",
    "test_accuracy_metric = tf.keras.metrics.CategoricalAccuracy()"
   ]
  },
  {
   "source": [
    "### Deep Model Structure\n",
    "We are going now to develop the structure of the model we are going to use. Moreover several functions will be defined."
   ],
   "cell_type": "markdown",
   "metadata": {}
  },
  {
   "cell_type": "code",
   "execution_count": 9,
   "metadata": {},
   "outputs": [],
   "source": [
    "class DeepConvolutionalNet(Model):\n",
    "    # convolution layer\n",
    "    def __init__(self, in_channels, out_channels, size):\n",
    "        super(DeepConvolutionalNet,self).__init__()\n",
    "        initial = tf.random.truncated_normal([size, size, in_channels, out_channels], stddev=0.1)\n",
    "        self.filters = tf.Variable(initial)\n",
    "\n",
    "    def call(self, x):\n",
    "        res = tf.nn.conv2d(x, self.filters, 1, padding=\"SAME\")\n",
    "        return res\n",
    "\n",
    "class FullyConnected(Model):\n",
    "    # fully connected layer to perform linear regression\n",
    "    def __init__(self, input_shape, output_shape):\n",
    "        super(FullyConnected,self).__init__() # initialize the model\n",
    "        self.W = tf.Variable(tf.random.truncated_normal([input_shape, output_shape], stddev=0.1)) # declare weights\n",
    "        self.b = tf.Variable(tf.constant(0.1, shape=[1, output_shape]))  # declare biases\n",
    "    \n",
    "    def call(self, x):\n",
    "        res = tf.matmul(x, self.W) + self.b\n",
    "        return res\n",
    "\n",
    "class DeepModel(Model):\n",
    "    def __init__(self,dropout_val):\n",
    "        super(DeepModel,self).__init__()              # input shape: (batch,16,16,1)\n",
    "        self.conv1 = DeepConvolutionalNet(1, 16, 5)   # out shape: (batch,16,16,32)\n",
    "        self.pool1 = MaxPool2D([2,2])                 # out shape: (batch,8,8,32)\n",
    "        self.conv2 = DeepConvolutionalNet(16, 32, 5)  # out shape: (batch,8,8,64)\n",
    "        self.pool2 = MaxPool2D([2,2])                 # out shape: (batch,6,4,32)\n",
    "        self.conv3 = DeepConvolutionalNet(32, 64, 5)  # out shape: (batch,6,4,64)\n",
    "      \n",
    "\n",
    "        self.flatten = Flatten()                      # out shape: (batch,1024)\n",
    "        self.fc1 = FullyConnected(1024, 1024)         # out shape: (batch,1024)\n",
    "        self.dropout = Dropout(dropout_val)           # unchanged\n",
    "        self.fc2 = FullyConnected(1024, 26)           # out shape: (batch,26)\n",
    "        self.softmax = Softmax()                      # unchanged\n",
    "\n",
    "    def call(self, x, training=False):\n",
    "        x = tf.nn.relu(self.conv1(x))\n",
    "        x = self.pool1(x)\n",
    "        x = tf.nn.relu(self.conv2(x))\n",
    "        x = self.pool2(x)\n",
    "        x = tf.nn.relu(self.conv3(x))\n",
    "        x = self.flatten(x)\n",
    "        \n",
    "        x = tf.nn.relu(self.fc1(x))\n",
    "\n",
    "        x = self.dropout(x, training=training) # behavior of dropout changes between train and test\n",
    "    \n",
    "        x = self.fc2(x)\n",
    "        prob = self.softmax(x)\n",
    "    \n",
    "        return prob"
   ]
  },
  {
   "cell_type": "code",
   "execution_count": 11,
   "metadata": {},
   "outputs": [],
   "source": [
    "# Model building\n",
    "\n",
    "def train_step(images, labels, model, loss_fn, optimizer):\n",
    "    with tf.GradientTape() as tape:\n",
    "        predictions = model(images, training=True)\n",
    "        loss = loss_fn(labels, predictions)\n",
    "    gradients = tape.gradient(loss, model.trainable_variables)\n",
    "    optimizer.apply_gradients(zip(gradients, model.trainable_variables))\n",
    "\n",
    "    train_loss_metric(loss)\n",
    "    train_accuracy_metric(labels, predictions)\n",
    "\n",
    "\n",
    "def train_loop(epochs, train_ds, model, loss_fn, optimizer):\n",
    "    epochs_accuracy = []\n",
    "    epochs_loss = []\n",
    "    for epoch in range(epochs):\n",
    "        # reset the metrics for the next epoch\n",
    "        train_loss_metric.reset_states()\n",
    "        train_accuracy_metric.reset_states()\n",
    "\n",
    "        start = datetime.now() # save start time\n",
    "        for images, labels in train_ds:\n",
    "            train_step(images, labels, model, loss_fn, optimizer)\n",
    "\n",
    "        epochs_accuracy.append(train_accuracy_metric.result()*100)\n",
    "        epochs_loss.append(train_loss_metric.result())\n",
    "\n",
    "        template = 'Epoch {}, Time {}, Loss: {}, Accuracy: {}'\n",
    "        print(template.format(epoch+1,\n",
    "                          datetime.now() - start,\n",
    "                          train_loss_metric.result(),\n",
    "                          train_accuracy_metric.result()*100))\n",
    "    return epochs_accuracy,epochs_loss\n",
    "\n",
    "\n",
    "\n",
    "def test_step(images, labels, model, loss_fn):\n",
    "    predictions = model(images, training=False)\n",
    "    predicted_values = get_predictions(predictions)\n",
    "    t_loss = loss_fn(labels, predictions)\n",
    "\n",
    "    test_loss_metric(t_loss)\n",
    "    test_accuracy_metric(labels, predictions)\n",
    "    return predicted_values\n",
    "\n",
    "\n",
    "def get_predictions(predictions):\n",
    "    values = []\n",
    "    for element in predictions:\n",
    "        element = np.array(element)\n",
    "        max_index = np.argmax(element)\n",
    "        #convert to characte\n",
    "        values.append( chr(int(max_index + 97)))\n",
    "    return values\n",
    "\n",
    "def test_loop(test_ds, model, loss_fn):\n",
    "    # reset the metrics for the next epoch\n",
    "    test_loss_metric.reset_states()\n",
    "    test_accuracy_metric.reset_states()\n",
    "    predicted_full = []\n",
    "     \n",
    "    for test_images, test_labels in test_ds:\n",
    "        predicted_values = test_step(test_images, test_labels, model, loss_fn)\n",
    "        predicted_full = predicted_full + predicted_values\n",
    "\n",
    "    template = 'Test Loss: {}, Test Accuracy: {}'\n",
    "    print(template.format(test_loss_metric.result(),\n",
    "                            test_accuracy_metric.result()*100))\n",
    "    return test_accuracy_metric.result()*100, predicted_full"
   ]
  },
  {
   "source": [
    "### Validation Procedure\n",
    "Once the structure of the deep network is choosed we want to do dropout be-\n",
    "tween the first and the second fully connected layer, keeping only a certain\n",
    "percentage of nodels, namely $p_1 =0.25\\% $, $p_2 =0.50\\%$ and $p_3 = 0.75\\%$. For each\n",
    "of these values, we split the training set in train and validation subset and per-\n",
    "form a 3-fold cross validation in order to have the best percentage to use for the\n",
    "dropout layer in our Deep Network."
   ],
   "cell_type": "markdown",
   "metadata": {}
  },
  {
   "cell_type": "code",
   "execution_count": 12,
   "metadata": {},
   "outputs": [
    {
     "output_type": "stream",
     "name": "stdout",
     "text": [
      "Epoch 1, Time 0:00:10.957318, Loss: 1.3177545070648193, Accuracy: 62.26030731201172\n",
      "Epoch 2, Time 0:00:11.064424, Loss: 0.6017053127288818, Accuracy: 81.82526397705078\n",
      "Epoch 3, Time 0:00:10.991419, Loss: 0.46367570757865906, Accuracy: 85.83712768554688\n",
      "Epoch 4, Time 0:00:12.145708, Loss: 0.38022229075431824, Accuracy: 87.99137115478516\n",
      "Epoch 5, Time 0:00:10.987581, Loss: 0.3318133056163788, Accuracy: 89.51641845703125\n",
      "Epoch 6, Time 0:00:10.295082, Loss: 0.291262149810791, Accuracy: 90.6699447631836\n",
      "Epoch 7, Time 0:00:10.520626, Loss: 0.2666996717453003, Accuracy: 91.27217102050781\n",
      "Epoch 8, Time 0:00:10.296118, Loss: 0.24283869564533234, Accuracy: 91.99723815917969\n",
      "Epoch 9, Time 0:00:10.044002, Loss: 0.22242839634418488, Accuracy: 92.64740753173828\n",
      "Epoch 10, Time 0:00:10.157841, Loss: 0.20936717092990875, Accuracy: 92.96500396728516\n",
      "Test Loss: 0.27439698576927185, Test Accuracy: 91.55182647705078\n",
      "Epoch 1, Time 0:00:09.987341, Loss: 1.5610837936401367, Accuracy: 56.71141052246094\n",
      "Epoch 2, Time 0:00:09.918198, Loss: 0.6933093070983887, Accuracy: 79.19462585449219\n",
      "Epoch 3, Time 0:00:09.979936, Loss: 0.5309367775917053, Accuracy: 83.5450668334961\n",
      "Epoch 4, Time 0:00:10.038436, Loss: 0.4413197338581085, Accuracy: 86.45733642578125\n",
      "Epoch 5, Time 0:00:10.462892, Loss: 0.38990455865859985, Accuracy: 87.76666259765625\n",
      "Epoch 6, Time 0:00:09.924655, Loss: 0.35405734181404114, Accuracy: 88.80632781982422\n",
      "Epoch 7, Time 0:00:09.744676, Loss: 0.32282060384750366, Accuracy: 89.5853271484375\n",
      "Epoch 8, Time 0:00:10.413838, Loss: 0.2995000183582306, Accuracy: 90.22052001953125\n",
      "Epoch 9, Time 0:00:09.852610, Loss: 0.27763137221336365, Accuracy: 91.06243896484375\n",
      "Epoch 10, Time 0:00:12.356437, Loss: 0.2605130970478058, Accuracy: 91.44894409179688\n",
      "Test Loss: 0.2877386212348938, Test Accuracy: 90.83283233642578\n",
      "Epoch 1, Time 0:00:11.947899, Loss: 1.8925037384033203, Accuracy: 46.82706069946289\n",
      "Epoch 2, Time 0:00:10.250652, Loss: 0.8797392845153809, Accuracy: 74.52960205078125\n",
      "Epoch 3, Time 0:00:10.005464, Loss: 0.654094934463501, Accuracy: 80.46500396728516\n",
      "Epoch 4, Time 0:00:10.135689, Loss: 0.5514177083969116, Accuracy: 83.43120574951172\n",
      "Epoch 5, Time 0:00:10.548093, Loss: 0.48933058977127075, Accuracy: 84.9592514038086\n",
      "Epoch 6, Time 0:00:10.894186, Loss: 0.4412919878959656, Accuracy: 86.46332550048828\n",
      "Epoch 7, Time 0:00:10.058846, Loss: 0.404877632856369, Accuracy: 87.44306945800781\n",
      "Epoch 8, Time 0:00:09.980320, Loss: 0.3743571639060974, Accuracy: 88.42581176757812\n",
      "Epoch 9, Time 0:00:10.578529, Loss: 0.35553979873657227, Accuracy: 88.809326171875\n",
      "Epoch 10, Time 0:00:10.101065, Loss: 0.33709076046943665, Accuracy: 89.45050048828125\n",
      "Test Loss: 0.2982614040374756, Test Accuracy: 90.71299743652344\n"
     ]
    }
   ],
   "source": [
    "# Using validation set to compare three model with different percentages of dropout\n",
    "rate = 1e-1\n",
    "drop_outs = [0.25,0.5,0.75]\n",
    "accuracy_list = np.zeros(shape=(3))\n",
    "\n",
    "\n",
    "model_evaluation = True\n",
    "if model_evaluation == True:\n",
    "    for i in range(3):\n",
    "            dropout_val = drop_outs[i]\n",
    "            # split training data to get training and validation set\n",
    "            # for model evaluation\n",
    "            X_train_val, X_test_val, y_train_val, y_test_val = train_test_split(data_train, targets_train, test_size=0.20, random_state=42)\n",
    "            # convert data to tf.tensor\n",
    "            x_train = tf.cast(X_train_val, tf.float32)\n",
    "            x_test = tf.cast(X_test_val, tf.float32)\n",
    "            # add a fourth dimension\n",
    "            x_train = x_train[..., tf.newaxis]\n",
    "            x_test = x_test[..., tf.newaxis]\n",
    "            # converting to one_hot\n",
    "            y_train = tf.one_hot(y_train_val.T, n_outputs)\n",
    "            y_test = tf.one_hot(y_test_val.T, n_outputs)\n",
    "            # create train and test datasets\n",
    "            train_ds = tf.data.Dataset.from_tensor_slices(\n",
    "                (x_train, y_train)).shuffle(10000).batch(200)\n",
    "            test_ds = tf.data.Dataset.from_tensor_slices((x_test, y_test)).batch(50)\n",
    "\n",
    "            # create an instance of the model\n",
    "            network = DeepModel(dropout_val)\n",
    "            network_loss = tf.keras.losses.CategoricalCrossentropy()\n",
    "            network_optimizer = tf.keras.optimizers.SGD(learning_rate=rate)\n",
    "            EPOCHS = 10\n",
    "            trainloop_accuracy,trainloop_loss = train_loop(EPOCHS, train_ds,  network, network_loss, network_optimizer)\n",
    "            accuracy_out, testloop_predictions = test_loop(test_ds, network, network_loss)\n",
    "\n",
    "            accuracy_list[i] = accuracy_out\n"
   ]
  },
  {
   "source": [
    "The best drop out pertange is "
   ],
   "cell_type": "markdown",
   "metadata": {}
  },
  {
   "cell_type": "code",
   "execution_count": 21,
   "metadata": {},
   "outputs": [
    {
     "output_type": "execute_result",
     "data": {
      "text/plain": [
       "0.25"
      ]
     },
     "metadata": {},
     "execution_count": 21
    }
   ],
   "source": [
    "best_dropout = drop_outs[accuracy_list.argmax()]\n",
    "best_dropout"
   ]
  },
  {
   "source": [
    "### Training Procedure\n",
    "It is straightforward to train a model with the best drop out percentage on the entire training dataset"
   ],
   "cell_type": "markdown",
   "metadata": {}
  },
  {
   "cell_type": "code",
   "execution_count": 22,
   "metadata": {},
   "outputs": [],
   "source": [
    "x_train = tf.cast(data_train, tf.float32)\n",
    "x_test = tf.cast(data_test, tf.float32)\n",
    "x_train = x_train[..., tf.newaxis]\n",
    "x_test = x_test[..., tf.newaxis]\n",
    "y_train = tf.one_hot(targets_train.T, n_outputs)\n",
    "y_test = tf.one_hot(targets_test.T, n_outputs)\n",
    "# create train and test datasets\n",
    "train_ds = tf.data.Dataset.from_tensor_slices(\n",
    "    (x_train, y_train)).shuffle(10000).batch(200)\n",
    "test_ds = tf.data.Dataset.from_tensor_slices((x_test, y_test)).batch(50)\n",
    "\n",
    "# create instance of the network\n",
    "network = DeepModel(best_dropout)\n",
    "network_loss = tf.keras.losses.CategoricalCrossentropy()\n",
    "network_optimizer = tf.keras.optimizers.SGD(learning_rate=rate)"
   ]
  },
  {
   "cell_type": "code",
   "execution_count": 23,
   "metadata": {},
   "outputs": [
    {
     "output_type": "stream",
     "name": "stdout",
     "text": [
      "Epoch 1, Time 0:00:13.890314, Loss: 1.142865538597107, Accuracy: 67.0693359375\n",
      "Epoch 2, Time 0:00:14.193575, Loss: 0.5048016309738159, Accuracy: 84.61446380615234\n",
      "Epoch 3, Time 0:00:15.319409, Loss: 0.3913695812225342, Accuracy: 87.77593994140625\n",
      "Epoch 4, Time 0:00:15.006708, Loss: 0.32968854904174805, Accuracy: 89.63591766357422\n",
      "Epoch 5, Time 0:00:13.002328, Loss: 0.29290977120399475, Accuracy: 90.66416931152344\n",
      "Epoch 6, Time 0:00:12.694617, Loss: 0.26480287313461304, Accuracy: 91.392822265625\n",
      "Epoch 7, Time 0:00:19.870963, Loss: 0.23754149675369263, Accuracy: 92.2652816772461\n",
      "Epoch 8, Time 0:00:12.925278, Loss: 0.22150780260562897, Accuracy: 92.63919830322266\n",
      "Epoch 9, Time 0:00:12.924070, Loss: 0.20514175295829773, Accuracy: 93.20246887207031\n",
      "Epoch 10, Time 0:00:13.934835, Loss: 0.19066138565540314, Accuracy: 93.57877349853516\n",
      "Epoch 11, Time 0:00:12.843273, Loss: 0.17760345339775085, Accuracy: 93.90715026855469\n",
      "Epoch 12, Time 0:00:12.703534, Loss: 0.1682528853416443, Accuracy: 94.23551940917969\n",
      "Epoch 13, Time 0:00:12.995563, Loss: 0.15693244338035583, Accuracy: 94.5135498046875\n",
      "Epoch 14, Time 0:00:12.588133, Loss: 0.14652834832668304, Accuracy: 94.9066390991211\n",
      "Epoch 15, Time 0:00:12.691362, Loss: 0.14136852324008942, Accuracy: 95.06004333496094\n",
      "Epoch 16, Time 0:00:13.135131, Loss: 0.1314893513917923, Accuracy: 95.38601684570312\n",
      "Epoch 17, Time 0:00:12.534906, Loss: 0.1256115585565567, Accuracy: 95.51544952392578\n",
      "Epoch 18, Time 0:00:12.756157, Loss: 0.120042584836483, Accuracy: 95.72876739501953\n",
      "Epoch 19, Time 0:00:13.253968, Loss: 0.11190350353717804, Accuracy: 95.96366119384766\n",
      "Epoch 20, Time 0:00:12.965290, Loss: 0.10697317123413086, Accuracy: 96.11466217041016\n",
      "Epoch 21, Time 0:00:13.186320, Loss: 0.1011333093047142, Accuracy: 96.35435485839844\n",
      "Epoch 22, Time 0:00:13.141638, Loss: 0.09553086012601852, Accuracy: 96.56527709960938\n",
      "Epoch 23, Time 0:00:12.939867, Loss: 0.09251119196414948, Accuracy: 96.55569458007812\n",
      "Epoch 24, Time 0:00:13.131621, Loss: 0.08535303175449371, Accuracy: 96.92001342773438\n",
      "Epoch 25, Time 0:00:12.978260, Loss: 0.08394408226013184, Accuracy: 96.9367904663086\n",
      "Epoch 26, Time 0:00:13.770747, Loss: 0.08067586272954941, Accuracy: 97.0422592163086\n",
      "Epoch 27, Time 0:00:12.699659, Loss: 0.07607477158308029, Accuracy: 97.21482849121094\n",
      "Epoch 28, Time 0:00:12.657816, Loss: 0.07294007390737534, Accuracy: 97.27954864501953\n",
      "Epoch 29, Time 0:00:12.829687, Loss: 0.07177734375, Accuracy: 97.3706283569336\n",
      "Epoch 30, Time 0:00:14.012769, Loss: 0.06741192191839218, Accuracy: 97.50245666503906\n"
     ]
    }
   ],
   "source": [
    "# Train\n",
    "EPOCHS = 30\n",
    "EA,EL=train_loop(EPOCHS, train_ds,  network, network_loss, network_optimizer)"
   ]
  },
  {
   "source": [
    "### Testing and Evaluation Model\n",
    "Once the model has been trained, we can see whether it generalizes well or not to out-of-sample data"
   ],
   "cell_type": "markdown",
   "metadata": {}
  },
  {
   "cell_type": "code",
   "execution_count": 24,
   "metadata": {},
   "outputs": [
    {
     "output_type": "stream",
     "name": "stdout",
     "text": [
      "Test Loss: 0.2760476768016815, Test Accuracy: 92.60857391357422\n"
     ]
    }
   ],
   "source": [
    "# Evaluating the accuracy\n",
    "accuracy_out,predicted_full = test_loop(test_ds, network, network_loss)"
   ]
  },
  {
   "source": [
    "## Conclusion\n",
    "In the following graph are shown the results of our model"
   ],
   "cell_type": "markdown",
   "metadata": {}
  },
  {
   "cell_type": "code",
   "execution_count": 27,
   "metadata": {},
   "outputs": [
    {
     "output_type": "display_data",
     "data": {
      "text/plain": "<Figure size 432x288 with 1 Axes>",
      "image/svg+xml": "<?xml version=\"1.0\" encoding=\"utf-8\" standalone=\"no\"?>\n<!DOCTYPE svg PUBLIC \"-//W3C//DTD SVG 1.1//EN\"\n  \"http://www.w3.org/Graphics/SVG/1.1/DTD/svg11.dtd\">\n<!-- Created with matplotlib (https://matplotlib.org/) -->\n<svg height=\"277.314375pt\" version=\"1.1\" viewBox=\"0 0 390.605241 277.314375\" width=\"390.605241pt\" xmlns=\"http://www.w3.org/2000/svg\" xmlns:xlink=\"http://www.w3.org/1999/xlink\">\n <defs>\n  <style type=\"text/css\">\n*{stroke-linecap:butt;stroke-linejoin:round;}\n  </style>\n </defs>\n <g id=\"figure_1\">\n  <g id=\"patch_1\">\n   <path d=\"M -0 277.314375 \nL 390.605241 277.314375 \nL 390.605241 0 \nL -0 0 \nz\n\" style=\"fill:none;\"/>\n  </g>\n  <g id=\"axes_1\">\n   <g id=\"patch_2\">\n    <path d=\"M 46.965625 239.758125 \nL 381.765625 239.758125 \nL 381.765625 22.318125 \nL 46.965625 22.318125 \nz\n\" style=\"fill:#ffffff;\"/>\n   </g>\n   <g id=\"matplotlib.axis_1\">\n    <g id=\"xtick_1\">\n     <g id=\"line2d_1\">\n      <path clip-path=\"url(#p30296b02f6)\" d=\"M 62.183807 239.758125 \nL 62.183807 22.318125 \n\" style=\"fill:none;stroke:#b0b0b0;stroke-linecap:square;stroke-width:0.8;\"/>\n     </g>\n     <g id=\"line2d_2\">\n      <defs>\n       <path d=\"M 0 0 \nL 0 3.5 \n\" id=\"m33ed346bee\" style=\"stroke:#000000;stroke-width:0.8;\"/>\n      </defs>\n      <g>\n       <use style=\"stroke:#000000;stroke-width:0.8;\" x=\"62.183807\" xlink:href=\"#m33ed346bee\" y=\"239.758125\"/>\n      </g>\n     </g>\n     <g id=\"text_1\">\n      <!-- 0 -->\n      <defs>\n       <path d=\"M 31.78125 66.40625 \nQ 24.171875 66.40625 20.328125 58.90625 \nQ 16.5 51.421875 16.5 36.375 \nQ 16.5 21.390625 20.328125 13.890625 \nQ 24.171875 6.390625 31.78125 6.390625 \nQ 39.453125 6.390625 43.28125 13.890625 \nQ 47.125 21.390625 47.125 36.375 \nQ 47.125 51.421875 43.28125 58.90625 \nQ 39.453125 66.40625 31.78125 66.40625 \nz\nM 31.78125 74.21875 \nQ 44.046875 74.21875 50.515625 64.515625 \nQ 56.984375 54.828125 56.984375 36.375 \nQ 56.984375 17.96875 50.515625 8.265625 \nQ 44.046875 -1.421875 31.78125 -1.421875 \nQ 19.53125 -1.421875 13.0625 8.265625 \nQ 6.59375 17.96875 6.59375 36.375 \nQ 6.59375 54.828125 13.0625 64.515625 \nQ 19.53125 74.21875 31.78125 74.21875 \nz\n\" id=\"DejaVuSans-48\"/>\n      </defs>\n      <g transform=\"translate(59.002557 254.356562)scale(0.1 -0.1)\">\n       <use xlink:href=\"#DejaVuSans-48\"/>\n      </g>\n     </g>\n    </g>\n    <g id=\"xtick_2\">\n     <g id=\"line2d_3\">\n      <path clip-path=\"url(#p30296b02f6)\" d=\"M 114.660296 239.758125 \nL 114.660296 22.318125 \n\" style=\"fill:none;stroke:#b0b0b0;stroke-linecap:square;stroke-width:0.8;\"/>\n     </g>\n     <g id=\"line2d_4\">\n      <g>\n       <use style=\"stroke:#000000;stroke-width:0.8;\" x=\"114.660296\" xlink:href=\"#m33ed346bee\" y=\"239.758125\"/>\n      </g>\n     </g>\n     <g id=\"text_2\">\n      <!-- 5 -->\n      <defs>\n       <path d=\"M 10.796875 72.90625 \nL 49.515625 72.90625 \nL 49.515625 64.59375 \nL 19.828125 64.59375 \nL 19.828125 46.734375 \nQ 21.96875 47.46875 24.109375 47.828125 \nQ 26.265625 48.1875 28.421875 48.1875 \nQ 40.625 48.1875 47.75 41.5 \nQ 54.890625 34.8125 54.890625 23.390625 \nQ 54.890625 11.625 47.5625 5.09375 \nQ 40.234375 -1.421875 26.90625 -1.421875 \nQ 22.3125 -1.421875 17.546875 -0.640625 \nQ 12.796875 0.140625 7.71875 1.703125 \nL 7.71875 11.625 \nQ 12.109375 9.234375 16.796875 8.0625 \nQ 21.484375 6.890625 26.703125 6.890625 \nQ 35.15625 6.890625 40.078125 11.328125 \nQ 45.015625 15.765625 45.015625 23.390625 \nQ 45.015625 31 40.078125 35.4375 \nQ 35.15625 39.890625 26.703125 39.890625 \nQ 22.75 39.890625 18.8125 39.015625 \nQ 14.890625 38.140625 10.796875 36.28125 \nz\n\" id=\"DejaVuSans-53\"/>\n      </defs>\n      <g transform=\"translate(111.479046 254.356562)scale(0.1 -0.1)\">\n       <use xlink:href=\"#DejaVuSans-53\"/>\n      </g>\n     </g>\n    </g>\n    <g id=\"xtick_3\">\n     <g id=\"line2d_5\">\n      <path clip-path=\"url(#p30296b02f6)\" d=\"M 167.136785 239.758125 \nL 167.136785 22.318125 \n\" style=\"fill:none;stroke:#b0b0b0;stroke-linecap:square;stroke-width:0.8;\"/>\n     </g>\n     <g id=\"line2d_6\">\n      <g>\n       <use style=\"stroke:#000000;stroke-width:0.8;\" x=\"167.136785\" xlink:href=\"#m33ed346bee\" y=\"239.758125\"/>\n      </g>\n     </g>\n     <g id=\"text_3\">\n      <!-- 10 -->\n      <defs>\n       <path d=\"M 12.40625 8.296875 \nL 28.515625 8.296875 \nL 28.515625 63.921875 \nL 10.984375 60.40625 \nL 10.984375 69.390625 \nL 28.421875 72.90625 \nL 38.28125 72.90625 \nL 38.28125 8.296875 \nL 54.390625 8.296875 \nL 54.390625 0 \nL 12.40625 0 \nz\n\" id=\"DejaVuSans-49\"/>\n      </defs>\n      <g transform=\"translate(160.774285 254.356562)scale(0.1 -0.1)\">\n       <use xlink:href=\"#DejaVuSans-49\"/>\n       <use x=\"63.623047\" xlink:href=\"#DejaVuSans-48\"/>\n      </g>\n     </g>\n    </g>\n    <g id=\"xtick_4\">\n     <g id=\"line2d_7\">\n      <path clip-path=\"url(#p30296b02f6)\" d=\"M 219.613274 239.758125 \nL 219.613274 22.318125 \n\" style=\"fill:none;stroke:#b0b0b0;stroke-linecap:square;stroke-width:0.8;\"/>\n     </g>\n     <g id=\"line2d_8\">\n      <g>\n       <use style=\"stroke:#000000;stroke-width:0.8;\" x=\"219.613274\" xlink:href=\"#m33ed346bee\" y=\"239.758125\"/>\n      </g>\n     </g>\n     <g id=\"text_4\">\n      <!-- 15 -->\n      <g transform=\"translate(213.250774 254.356562)scale(0.1 -0.1)\">\n       <use xlink:href=\"#DejaVuSans-49\"/>\n       <use x=\"63.623047\" xlink:href=\"#DejaVuSans-53\"/>\n      </g>\n     </g>\n    </g>\n    <g id=\"xtick_5\">\n     <g id=\"line2d_9\">\n      <path clip-path=\"url(#p30296b02f6)\" d=\"M 272.089763 239.758125 \nL 272.089763 22.318125 \n\" style=\"fill:none;stroke:#b0b0b0;stroke-linecap:square;stroke-width:0.8;\"/>\n     </g>\n     <g id=\"line2d_10\">\n      <g>\n       <use style=\"stroke:#000000;stroke-width:0.8;\" x=\"272.089763\" xlink:href=\"#m33ed346bee\" y=\"239.758125\"/>\n      </g>\n     </g>\n     <g id=\"text_5\">\n      <!-- 20 -->\n      <defs>\n       <path d=\"M 19.1875 8.296875 \nL 53.609375 8.296875 \nL 53.609375 0 \nL 7.328125 0 \nL 7.328125 8.296875 \nQ 12.9375 14.109375 22.625 23.890625 \nQ 32.328125 33.6875 34.8125 36.53125 \nQ 39.546875 41.84375 41.421875 45.53125 \nQ 43.3125 49.21875 43.3125 52.78125 \nQ 43.3125 58.59375 39.234375 62.25 \nQ 35.15625 65.921875 28.609375 65.921875 \nQ 23.96875 65.921875 18.8125 64.3125 \nQ 13.671875 62.703125 7.8125 59.421875 \nL 7.8125 69.390625 \nQ 13.765625 71.78125 18.9375 73 \nQ 24.125 74.21875 28.421875 74.21875 \nQ 39.75 74.21875 46.484375 68.546875 \nQ 53.21875 62.890625 53.21875 53.421875 \nQ 53.21875 48.921875 51.53125 44.890625 \nQ 49.859375 40.875 45.40625 35.40625 \nQ 44.1875 33.984375 37.640625 27.21875 \nQ 31.109375 20.453125 19.1875 8.296875 \nz\n\" id=\"DejaVuSans-50\"/>\n      </defs>\n      <g transform=\"translate(265.727263 254.356562)scale(0.1 -0.1)\">\n       <use xlink:href=\"#DejaVuSans-50\"/>\n       <use x=\"63.623047\" xlink:href=\"#DejaVuSans-48\"/>\n      </g>\n     </g>\n    </g>\n    <g id=\"xtick_6\">\n     <g id=\"line2d_11\">\n      <path clip-path=\"url(#p30296b02f6)\" d=\"M 324.566252 239.758125 \nL 324.566252 22.318125 \n\" style=\"fill:none;stroke:#b0b0b0;stroke-linecap:square;stroke-width:0.8;\"/>\n     </g>\n     <g id=\"line2d_12\">\n      <g>\n       <use style=\"stroke:#000000;stroke-width:0.8;\" x=\"324.566252\" xlink:href=\"#m33ed346bee\" y=\"239.758125\"/>\n      </g>\n     </g>\n     <g id=\"text_6\">\n      <!-- 25 -->\n      <g transform=\"translate(318.203752 254.356562)scale(0.1 -0.1)\">\n       <use xlink:href=\"#DejaVuSans-50\"/>\n       <use x=\"63.623047\" xlink:href=\"#DejaVuSans-53\"/>\n      </g>\n     </g>\n    </g>\n    <g id=\"xtick_7\">\n     <g id=\"line2d_13\">\n      <path clip-path=\"url(#p30296b02f6)\" d=\"M 377.042741 239.758125 \nL 377.042741 22.318125 \n\" style=\"fill:none;stroke:#b0b0b0;stroke-linecap:square;stroke-width:0.8;\"/>\n     </g>\n     <g id=\"line2d_14\">\n      <g>\n       <use style=\"stroke:#000000;stroke-width:0.8;\" x=\"377.042741\" xlink:href=\"#m33ed346bee\" y=\"239.758125\"/>\n      </g>\n     </g>\n     <g id=\"text_7\">\n      <!-- 30 -->\n      <defs>\n       <path d=\"M 40.578125 39.3125 \nQ 47.65625 37.796875 51.625 33 \nQ 55.609375 28.21875 55.609375 21.1875 \nQ 55.609375 10.40625 48.1875 4.484375 \nQ 40.765625 -1.421875 27.09375 -1.421875 \nQ 22.515625 -1.421875 17.65625 -0.515625 \nQ 12.796875 0.390625 7.625 2.203125 \nL 7.625 11.71875 \nQ 11.71875 9.328125 16.59375 8.109375 \nQ 21.484375 6.890625 26.8125 6.890625 \nQ 36.078125 6.890625 40.9375 10.546875 \nQ 45.796875 14.203125 45.796875 21.1875 \nQ 45.796875 27.640625 41.28125 31.265625 \nQ 36.765625 34.90625 28.71875 34.90625 \nL 20.21875 34.90625 \nL 20.21875 43.015625 \nL 29.109375 43.015625 \nQ 36.375 43.015625 40.234375 45.921875 \nQ 44.09375 48.828125 44.09375 54.296875 \nQ 44.09375 59.90625 40.109375 62.90625 \nQ 36.140625 65.921875 28.71875 65.921875 \nQ 24.65625 65.921875 20.015625 65.03125 \nQ 15.375 64.15625 9.8125 62.3125 \nL 9.8125 71.09375 \nQ 15.4375 72.65625 20.34375 73.4375 \nQ 25.25 74.21875 29.59375 74.21875 \nQ 40.828125 74.21875 47.359375 69.109375 \nQ 53.90625 64.015625 53.90625 55.328125 \nQ 53.90625 49.265625 50.4375 45.09375 \nQ 46.96875 40.921875 40.578125 39.3125 \nz\n\" id=\"DejaVuSans-51\"/>\n      </defs>\n      <g transform=\"translate(370.680241 254.356562)scale(0.1 -0.1)\">\n       <use xlink:href=\"#DejaVuSans-51\"/>\n       <use x=\"63.623047\" xlink:href=\"#DejaVuSans-48\"/>\n      </g>\n     </g>\n    </g>\n    <g id=\"text_8\">\n     <!-- Epochs -->\n     <defs>\n      <path d=\"M 9.8125 72.90625 \nL 55.90625 72.90625 \nL 55.90625 64.59375 \nL 19.671875 64.59375 \nL 19.671875 43.015625 \nL 54.390625 43.015625 \nL 54.390625 34.71875 \nL 19.671875 34.71875 \nL 19.671875 8.296875 \nL 56.78125 8.296875 \nL 56.78125 0 \nL 9.8125 0 \nz\n\" id=\"DejaVuSans-69\"/>\n      <path d=\"M 18.109375 8.203125 \nL 18.109375 -20.796875 \nL 9.078125 -20.796875 \nL 9.078125 54.6875 \nL 18.109375 54.6875 \nL 18.109375 46.390625 \nQ 20.953125 51.265625 25.265625 53.625 \nQ 29.59375 56 35.59375 56 \nQ 45.5625 56 51.78125 48.09375 \nQ 58.015625 40.1875 58.015625 27.296875 \nQ 58.015625 14.40625 51.78125 6.484375 \nQ 45.5625 -1.421875 35.59375 -1.421875 \nQ 29.59375 -1.421875 25.265625 0.953125 \nQ 20.953125 3.328125 18.109375 8.203125 \nz\nM 48.6875 27.296875 \nQ 48.6875 37.203125 44.609375 42.84375 \nQ 40.53125 48.484375 33.40625 48.484375 \nQ 26.265625 48.484375 22.1875 42.84375 \nQ 18.109375 37.203125 18.109375 27.296875 \nQ 18.109375 17.390625 22.1875 11.75 \nQ 26.265625 6.109375 33.40625 6.109375 \nQ 40.53125 6.109375 44.609375 11.75 \nQ 48.6875 17.390625 48.6875 27.296875 \nz\n\" id=\"DejaVuSans-112\"/>\n      <path d=\"M 30.609375 48.390625 \nQ 23.390625 48.390625 19.1875 42.75 \nQ 14.984375 37.109375 14.984375 27.296875 \nQ 14.984375 17.484375 19.15625 11.84375 \nQ 23.34375 6.203125 30.609375 6.203125 \nQ 37.796875 6.203125 41.984375 11.859375 \nQ 46.1875 17.53125 46.1875 27.296875 \nQ 46.1875 37.015625 41.984375 42.703125 \nQ 37.796875 48.390625 30.609375 48.390625 \nz\nM 30.609375 56 \nQ 42.328125 56 49.015625 48.375 \nQ 55.71875 40.765625 55.71875 27.296875 \nQ 55.71875 13.875 49.015625 6.21875 \nQ 42.328125 -1.421875 30.609375 -1.421875 \nQ 18.84375 -1.421875 12.171875 6.21875 \nQ 5.515625 13.875 5.515625 27.296875 \nQ 5.515625 40.765625 12.171875 48.375 \nQ 18.84375 56 30.609375 56 \nz\n\" id=\"DejaVuSans-111\"/>\n      <path d=\"M 48.78125 52.59375 \nL 48.78125 44.1875 \nQ 44.96875 46.296875 41.140625 47.34375 \nQ 37.3125 48.390625 33.40625 48.390625 \nQ 24.65625 48.390625 19.8125 42.84375 \nQ 14.984375 37.3125 14.984375 27.296875 \nQ 14.984375 17.28125 19.8125 11.734375 \nQ 24.65625 6.203125 33.40625 6.203125 \nQ 37.3125 6.203125 41.140625 7.25 \nQ 44.96875 8.296875 48.78125 10.40625 \nL 48.78125 2.09375 \nQ 45.015625 0.34375 40.984375 -0.53125 \nQ 36.96875 -1.421875 32.421875 -1.421875 \nQ 20.0625 -1.421875 12.78125 6.34375 \nQ 5.515625 14.109375 5.515625 27.296875 \nQ 5.515625 40.671875 12.859375 48.328125 \nQ 20.21875 56 33.015625 56 \nQ 37.15625 56 41.109375 55.140625 \nQ 45.0625 54.296875 48.78125 52.59375 \nz\n\" id=\"DejaVuSans-99\"/>\n      <path d=\"M 54.890625 33.015625 \nL 54.890625 0 \nL 45.90625 0 \nL 45.90625 32.71875 \nQ 45.90625 40.484375 42.875 44.328125 \nQ 39.84375 48.1875 33.796875 48.1875 \nQ 26.515625 48.1875 22.3125 43.546875 \nQ 18.109375 38.921875 18.109375 30.90625 \nL 18.109375 0 \nL 9.078125 0 \nL 9.078125 75.984375 \nL 18.109375 75.984375 \nL 18.109375 46.1875 \nQ 21.34375 51.125 25.703125 53.5625 \nQ 30.078125 56 35.796875 56 \nQ 45.21875 56 50.046875 50.171875 \nQ 54.890625 44.34375 54.890625 33.015625 \nz\n\" id=\"DejaVuSans-104\"/>\n      <path d=\"M 44.28125 53.078125 \nL 44.28125 44.578125 \nQ 40.484375 46.53125 36.375 47.5 \nQ 32.28125 48.484375 27.875 48.484375 \nQ 21.1875 48.484375 17.84375 46.4375 \nQ 14.5 44.390625 14.5 40.28125 \nQ 14.5 37.15625 16.890625 35.375 \nQ 19.28125 33.59375 26.515625 31.984375 \nL 29.59375 31.296875 \nQ 39.15625 29.25 43.1875 25.515625 \nQ 47.21875 21.78125 47.21875 15.09375 \nQ 47.21875 7.46875 41.1875 3.015625 \nQ 35.15625 -1.421875 24.609375 -1.421875 \nQ 20.21875 -1.421875 15.453125 -0.5625 \nQ 10.6875 0.296875 5.421875 2 \nL 5.421875 11.28125 \nQ 10.40625 8.6875 15.234375 7.390625 \nQ 20.0625 6.109375 24.8125 6.109375 \nQ 31.15625 6.109375 34.5625 8.28125 \nQ 37.984375 10.453125 37.984375 14.40625 \nQ 37.984375 18.0625 35.515625 20.015625 \nQ 33.0625 21.96875 24.703125 23.78125 \nL 21.578125 24.515625 \nQ 13.234375 26.265625 9.515625 29.90625 \nQ 5.8125 33.546875 5.8125 39.890625 \nQ 5.8125 47.609375 11.28125 51.796875 \nQ 16.75 56 26.8125 56 \nQ 31.78125 56 36.171875 55.265625 \nQ 40.578125 54.546875 44.28125 53.078125 \nz\n\" id=\"DejaVuSans-115\"/>\n     </defs>\n     <g transform=\"translate(196.45 268.034687)scale(0.1 -0.1)\">\n      <use xlink:href=\"#DejaVuSans-69\"/>\n      <use x=\"63.183594\" xlink:href=\"#DejaVuSans-112\"/>\n      <use x=\"126.660156\" xlink:href=\"#DejaVuSans-111\"/>\n      <use x=\"187.841797\" xlink:href=\"#DejaVuSans-99\"/>\n      <use x=\"242.822266\" xlink:href=\"#DejaVuSans-104\"/>\n      <use x=\"306.201172\" xlink:href=\"#DejaVuSans-115\"/>\n     </g>\n    </g>\n   </g>\n   <g id=\"matplotlib.axis_2\">\n    <g id=\"ytick_1\">\n     <g id=\"line2d_15\">\n      <path clip-path=\"url(#p30296b02f6)\" d=\"M 46.965625 239.758125 \nL 381.765625 239.758125 \n\" style=\"fill:none;stroke:#b0b0b0;stroke-linecap:square;stroke-width:0.8;\"/>\n     </g>\n     <g id=\"line2d_16\">\n      <defs>\n       <path d=\"M 0 0 \nL -3.5 0 \n\" id=\"m90f2f4d4d2\" style=\"stroke:#000000;stroke-width:0.8;\"/>\n      </defs>\n      <g>\n       <use style=\"stroke:#000000;stroke-width:0.8;\" x=\"46.965625\" xlink:href=\"#m90f2f4d4d2\" y=\"239.758125\"/>\n      </g>\n     </g>\n     <g id=\"text_9\">\n      <!-- 0 -->\n      <g transform=\"translate(33.603125 243.557344)scale(0.1 -0.1)\">\n       <use xlink:href=\"#DejaVuSans-48\"/>\n      </g>\n     </g>\n    </g>\n    <g id=\"ytick_2\">\n     <g id=\"line2d_17\">\n      <path clip-path=\"url(#p30296b02f6)\" d=\"M 46.965625 200.22358 \nL 381.765625 200.22358 \n\" style=\"fill:none;stroke:#b0b0b0;stroke-linecap:square;stroke-width:0.8;\"/>\n     </g>\n     <g id=\"line2d_18\">\n      <g>\n       <use style=\"stroke:#000000;stroke-width:0.8;\" x=\"46.965625\" xlink:href=\"#m90f2f4d4d2\" y=\"200.22358\"/>\n      </g>\n     </g>\n     <g id=\"text_10\">\n      <!-- 20 -->\n      <g transform=\"translate(27.240625 204.022798)scale(0.1 -0.1)\">\n       <use xlink:href=\"#DejaVuSans-50\"/>\n       <use x=\"63.623047\" xlink:href=\"#DejaVuSans-48\"/>\n      </g>\n     </g>\n    </g>\n    <g id=\"ytick_3\">\n     <g id=\"line2d_19\">\n      <path clip-path=\"url(#p30296b02f6)\" d=\"M 46.965625 160.689034 \nL 381.765625 160.689034 \n\" style=\"fill:none;stroke:#b0b0b0;stroke-linecap:square;stroke-width:0.8;\"/>\n     </g>\n     <g id=\"line2d_20\">\n      <g>\n       <use style=\"stroke:#000000;stroke-width:0.8;\" x=\"46.965625\" xlink:href=\"#m90f2f4d4d2\" y=\"160.689034\"/>\n      </g>\n     </g>\n     <g id=\"text_11\">\n      <!-- 40 -->\n      <defs>\n       <path d=\"M 37.796875 64.3125 \nL 12.890625 25.390625 \nL 37.796875 25.390625 \nz\nM 35.203125 72.90625 \nL 47.609375 72.90625 \nL 47.609375 25.390625 \nL 58.015625 25.390625 \nL 58.015625 17.1875 \nL 47.609375 17.1875 \nL 47.609375 0 \nL 37.796875 0 \nL 37.796875 17.1875 \nL 4.890625 17.1875 \nL 4.890625 26.703125 \nz\n\" id=\"DejaVuSans-52\"/>\n      </defs>\n      <g transform=\"translate(27.240625 164.488253)scale(0.1 -0.1)\">\n       <use xlink:href=\"#DejaVuSans-52\"/>\n       <use x=\"63.623047\" xlink:href=\"#DejaVuSans-48\"/>\n      </g>\n     </g>\n    </g>\n    <g id=\"ytick_4\">\n     <g id=\"line2d_21\">\n      <path clip-path=\"url(#p30296b02f6)\" d=\"M 46.965625 121.154489 \nL 381.765625 121.154489 \n\" style=\"fill:none;stroke:#b0b0b0;stroke-linecap:square;stroke-width:0.8;\"/>\n     </g>\n     <g id=\"line2d_22\">\n      <g>\n       <use style=\"stroke:#000000;stroke-width:0.8;\" x=\"46.965625\" xlink:href=\"#m90f2f4d4d2\" y=\"121.154489\"/>\n      </g>\n     </g>\n     <g id=\"text_12\">\n      <!-- 60 -->\n      <defs>\n       <path d=\"M 33.015625 40.375 \nQ 26.375 40.375 22.484375 35.828125 \nQ 18.609375 31.296875 18.609375 23.390625 \nQ 18.609375 15.53125 22.484375 10.953125 \nQ 26.375 6.390625 33.015625 6.390625 \nQ 39.65625 6.390625 43.53125 10.953125 \nQ 47.40625 15.53125 47.40625 23.390625 \nQ 47.40625 31.296875 43.53125 35.828125 \nQ 39.65625 40.375 33.015625 40.375 \nz\nM 52.59375 71.296875 \nL 52.59375 62.3125 \nQ 48.875 64.0625 45.09375 64.984375 \nQ 41.3125 65.921875 37.59375 65.921875 \nQ 27.828125 65.921875 22.671875 59.328125 \nQ 17.53125 52.734375 16.796875 39.40625 \nQ 19.671875 43.65625 24.015625 45.921875 \nQ 28.375 48.1875 33.59375 48.1875 \nQ 44.578125 48.1875 50.953125 41.515625 \nQ 57.328125 34.859375 57.328125 23.390625 \nQ 57.328125 12.15625 50.6875 5.359375 \nQ 44.046875 -1.421875 33.015625 -1.421875 \nQ 20.359375 -1.421875 13.671875 8.265625 \nQ 6.984375 17.96875 6.984375 36.375 \nQ 6.984375 53.65625 15.1875 63.9375 \nQ 23.390625 74.21875 37.203125 74.21875 \nQ 40.921875 74.21875 44.703125 73.484375 \nQ 48.484375 72.75 52.59375 71.296875 \nz\n\" id=\"DejaVuSans-54\"/>\n      </defs>\n      <g transform=\"translate(27.240625 124.953707)scale(0.1 -0.1)\">\n       <use xlink:href=\"#DejaVuSans-54\"/>\n       <use x=\"63.623047\" xlink:href=\"#DejaVuSans-48\"/>\n      </g>\n     </g>\n    </g>\n    <g id=\"ytick_5\">\n     <g id=\"line2d_23\">\n      <path clip-path=\"url(#p30296b02f6)\" d=\"M 46.965625 81.619943 \nL 381.765625 81.619943 \n\" style=\"fill:none;stroke:#b0b0b0;stroke-linecap:square;stroke-width:0.8;\"/>\n     </g>\n     <g id=\"line2d_24\">\n      <g>\n       <use style=\"stroke:#000000;stroke-width:0.8;\" x=\"46.965625\" xlink:href=\"#m90f2f4d4d2\" y=\"81.619943\"/>\n      </g>\n     </g>\n     <g id=\"text_13\">\n      <!-- 80 -->\n      <defs>\n       <path d=\"M 31.78125 34.625 \nQ 24.75 34.625 20.71875 30.859375 \nQ 16.703125 27.09375 16.703125 20.515625 \nQ 16.703125 13.921875 20.71875 10.15625 \nQ 24.75 6.390625 31.78125 6.390625 \nQ 38.8125 6.390625 42.859375 10.171875 \nQ 46.921875 13.96875 46.921875 20.515625 \nQ 46.921875 27.09375 42.890625 30.859375 \nQ 38.875 34.625 31.78125 34.625 \nz\nM 21.921875 38.8125 \nQ 15.578125 40.375 12.03125 44.71875 \nQ 8.5 49.078125 8.5 55.328125 \nQ 8.5 64.0625 14.71875 69.140625 \nQ 20.953125 74.21875 31.78125 74.21875 \nQ 42.671875 74.21875 48.875 69.140625 \nQ 55.078125 64.0625 55.078125 55.328125 \nQ 55.078125 49.078125 51.53125 44.71875 \nQ 48 40.375 41.703125 38.8125 \nQ 48.828125 37.15625 52.796875 32.3125 \nQ 56.78125 27.484375 56.78125 20.515625 \nQ 56.78125 9.90625 50.3125 4.234375 \nQ 43.84375 -1.421875 31.78125 -1.421875 \nQ 19.734375 -1.421875 13.25 4.234375 \nQ 6.78125 9.90625 6.78125 20.515625 \nQ 6.78125 27.484375 10.78125 32.3125 \nQ 14.796875 37.15625 21.921875 38.8125 \nz\nM 18.3125 54.390625 \nQ 18.3125 48.734375 21.84375 45.5625 \nQ 25.390625 42.390625 31.78125 42.390625 \nQ 38.140625 42.390625 41.71875 45.5625 \nQ 45.3125 48.734375 45.3125 54.390625 \nQ 45.3125 60.0625 41.71875 63.234375 \nQ 38.140625 66.40625 31.78125 66.40625 \nQ 25.390625 66.40625 21.84375 63.234375 \nQ 18.3125 60.0625 18.3125 54.390625 \nz\n\" id=\"DejaVuSans-56\"/>\n      </defs>\n      <g transform=\"translate(27.240625 85.419162)scale(0.1 -0.1)\">\n       <use xlink:href=\"#DejaVuSans-56\"/>\n       <use x=\"63.623047\" xlink:href=\"#DejaVuSans-48\"/>\n      </g>\n     </g>\n    </g>\n    <g id=\"ytick_6\">\n     <g id=\"line2d_25\">\n      <path clip-path=\"url(#p30296b02f6)\" d=\"M 46.965625 42.085398 \nL 381.765625 42.085398 \n\" style=\"fill:none;stroke:#b0b0b0;stroke-linecap:square;stroke-width:0.8;\"/>\n     </g>\n     <g id=\"line2d_26\">\n      <g>\n       <use style=\"stroke:#000000;stroke-width:0.8;\" x=\"46.965625\" xlink:href=\"#m90f2f4d4d2\" y=\"42.085398\"/>\n      </g>\n     </g>\n     <g id=\"text_14\">\n      <!-- 100 -->\n      <g transform=\"translate(20.878125 45.884616)scale(0.1 -0.1)\">\n       <use xlink:href=\"#DejaVuSans-49\"/>\n       <use x=\"63.623047\" xlink:href=\"#DejaVuSans-48\"/>\n       <use x=\"127.246094\" xlink:href=\"#DejaVuSans-48\"/>\n      </g>\n     </g>\n    </g>\n    <g id=\"text_15\">\n     <!-- Score -->\n     <defs>\n      <path d=\"M 53.515625 70.515625 \nL 53.515625 60.890625 \nQ 47.90625 63.578125 42.921875 64.890625 \nQ 37.9375 66.21875 33.296875 66.21875 \nQ 25.25 66.21875 20.875 63.09375 \nQ 16.5 59.96875 16.5 54.203125 \nQ 16.5 49.359375 19.40625 46.890625 \nQ 22.3125 44.4375 30.421875 42.921875 \nL 36.375 41.703125 \nQ 47.40625 39.59375 52.65625 34.296875 \nQ 57.90625 29 57.90625 20.125 \nQ 57.90625 9.515625 50.796875 4.046875 \nQ 43.703125 -1.421875 29.984375 -1.421875 \nQ 24.8125 -1.421875 18.96875 -0.25 \nQ 13.140625 0.921875 6.890625 3.21875 \nL 6.890625 13.375 \nQ 12.890625 10.015625 18.65625 8.296875 \nQ 24.421875 6.59375 29.984375 6.59375 \nQ 38.421875 6.59375 43.015625 9.90625 \nQ 47.609375 13.234375 47.609375 19.390625 \nQ 47.609375 24.75 44.3125 27.78125 \nQ 41.015625 30.8125 33.5 32.328125 \nL 27.484375 33.5 \nQ 16.453125 35.6875 11.515625 40.375 \nQ 6.59375 45.0625 6.59375 53.421875 \nQ 6.59375 63.09375 13.40625 68.65625 \nQ 20.21875 74.21875 32.171875 74.21875 \nQ 37.3125 74.21875 42.625 73.28125 \nQ 47.953125 72.359375 53.515625 70.515625 \nz\n\" id=\"DejaVuSans-83\"/>\n      <path d=\"M 41.109375 46.296875 \nQ 39.59375 47.171875 37.8125 47.578125 \nQ 36.03125 48 33.890625 48 \nQ 26.265625 48 22.1875 43.046875 \nQ 18.109375 38.09375 18.109375 28.8125 \nL 18.109375 0 \nL 9.078125 0 \nL 9.078125 54.6875 \nL 18.109375 54.6875 \nL 18.109375 46.1875 \nQ 20.953125 51.171875 25.484375 53.578125 \nQ 30.03125 56 36.53125 56 \nQ 37.453125 56 38.578125 55.875 \nQ 39.703125 55.765625 41.0625 55.515625 \nz\n\" id=\"DejaVuSans-114\"/>\n      <path d=\"M 56.203125 29.59375 \nL 56.203125 25.203125 \nL 14.890625 25.203125 \nQ 15.484375 15.921875 20.484375 11.0625 \nQ 25.484375 6.203125 34.421875 6.203125 \nQ 39.59375 6.203125 44.453125 7.46875 \nQ 49.3125 8.734375 54.109375 11.28125 \nL 54.109375 2.78125 \nQ 49.265625 0.734375 44.1875 -0.34375 \nQ 39.109375 -1.421875 33.890625 -1.421875 \nQ 20.796875 -1.421875 13.15625 6.1875 \nQ 5.515625 13.8125 5.515625 26.8125 \nQ 5.515625 40.234375 12.765625 48.109375 \nQ 20.015625 56 32.328125 56 \nQ 43.359375 56 49.78125 48.890625 \nQ 56.203125 41.796875 56.203125 29.59375 \nz\nM 47.21875 32.234375 \nQ 47.125 39.59375 43.09375 43.984375 \nQ 39.0625 48.390625 32.421875 48.390625 \nQ 24.90625 48.390625 20.390625 44.140625 \nQ 15.875 39.890625 15.1875 32.171875 \nz\n\" id=\"DejaVuSans-101\"/>\n     </defs>\n     <g transform=\"translate(14.798438 145.151406)rotate(-90)scale(0.1 -0.1)\">\n      <use xlink:href=\"#DejaVuSans-83\"/>\n      <use x=\"63.476562\" xlink:href=\"#DejaVuSans-99\"/>\n      <use x=\"118.457031\" xlink:href=\"#DejaVuSans-111\"/>\n      <use x=\"179.638672\" xlink:href=\"#DejaVuSans-114\"/>\n      <use x=\"220.720703\" xlink:href=\"#DejaVuSans-101\"/>\n     </g>\n    </g>\n   </g>\n   <g id=\"line2d_27\">\n    <path clip-path=\"url(#p30296b02f6)\" d=\"M 62.183807 107.180339 \nL 72.679105 72.498407 \nL 83.174402 66.249031 \nL 93.6697 62.572362 \nL 104.164998 60.539789 \nL 114.660296 59.099441 \nL 125.155594 57.374826 \nL 135.650891 56.635695 \nL 146.146189 55.522263 \nL 156.641487 54.778411 \nL 167.136785 54.1293 \nL 177.632083 53.480204 \nL 188.12738 52.930613 \nL 198.622678 52.153583 \nL 209.117976 51.850345 \nL 219.613274 51.205984 \nL 230.108572 50.950131 \nL 240.60387 50.52846 \nL 251.099167 50.064139 \nL 261.594465 49.765651 \nL 272.089763 49.291844 \nL 282.585061 48.874908 \nL 293.080359 48.89385 \nL 303.575656 48.173691 \nL 314.070954 48.140528 \nL 324.566252 47.932045 \nL 335.06155 47.590922 \nL 345.556848 47.462988 \nL 356.052145 47.282948 \nL 366.547443 47.02236 \n\" style=\"fill:none;stroke:#1f77b4;stroke-linecap:square;stroke-width:1.5;\"/>\n   </g>\n   <g id=\"patch_3\">\n    <path d=\"M 46.965625 239.758125 \nL 46.965625 22.318125 \n\" style=\"fill:none;stroke:#000000;stroke-linecap:square;stroke-linejoin:miter;stroke-width:0.8;\"/>\n   </g>\n   <g id=\"patch_4\">\n    <path d=\"M 381.765625 239.758125 \nL 381.765625 22.318125 \n\" style=\"fill:none;stroke:#000000;stroke-linecap:square;stroke-linejoin:miter;stroke-width:0.8;\"/>\n   </g>\n   <g id=\"patch_5\">\n    <path d=\"M 46.965625 239.758125 \nL 381.765625 239.758125 \n\" style=\"fill:none;stroke:#000000;stroke-linecap:square;stroke-linejoin:miter;stroke-width:0.8;\"/>\n   </g>\n   <g id=\"patch_6\">\n    <path d=\"M 46.965625 22.318125 \nL 381.765625 22.318125 \n\" style=\"fill:none;stroke:#000000;stroke-linecap:square;stroke-linejoin:miter;stroke-width:0.8;\"/>\n   </g>\n   <g id=\"text_16\">\n    <!-- Accuracy Score -->\n    <defs>\n     <path d=\"M 34.1875 63.1875 \nL 20.796875 26.90625 \nL 47.609375 26.90625 \nz\nM 28.609375 72.90625 \nL 39.796875 72.90625 \nL 67.578125 0 \nL 57.328125 0 \nL 50.6875 18.703125 \nL 17.828125 18.703125 \nL 11.1875 0 \nL 0.78125 0 \nz\n\" id=\"DejaVuSans-65\"/>\n     <path d=\"M 8.5 21.578125 \nL 8.5 54.6875 \nL 17.484375 54.6875 \nL 17.484375 21.921875 \nQ 17.484375 14.15625 20.5 10.265625 \nQ 23.53125 6.390625 29.59375 6.390625 \nQ 36.859375 6.390625 41.078125 11.03125 \nQ 45.3125 15.671875 45.3125 23.6875 \nL 45.3125 54.6875 \nL 54.296875 54.6875 \nL 54.296875 0 \nL 45.3125 0 \nL 45.3125 8.40625 \nQ 42.046875 3.421875 37.71875 1 \nQ 33.40625 -1.421875 27.6875 -1.421875 \nQ 18.265625 -1.421875 13.375 4.4375 \nQ 8.5 10.296875 8.5 21.578125 \nz\nM 31.109375 56 \nz\n\" id=\"DejaVuSans-117\"/>\n     <path d=\"M 34.28125 27.484375 \nQ 23.390625 27.484375 19.1875 25 \nQ 14.984375 22.515625 14.984375 16.5 \nQ 14.984375 11.71875 18.140625 8.90625 \nQ 21.296875 6.109375 26.703125 6.109375 \nQ 34.1875 6.109375 38.703125 11.40625 \nQ 43.21875 16.703125 43.21875 25.484375 \nL 43.21875 27.484375 \nz\nM 52.203125 31.203125 \nL 52.203125 0 \nL 43.21875 0 \nL 43.21875 8.296875 \nQ 40.140625 3.328125 35.546875 0.953125 \nQ 30.953125 -1.421875 24.3125 -1.421875 \nQ 15.921875 -1.421875 10.953125 3.296875 \nQ 6 8.015625 6 15.921875 \nQ 6 25.140625 12.171875 29.828125 \nQ 18.359375 34.515625 30.609375 34.515625 \nL 43.21875 34.515625 \nL 43.21875 35.40625 \nQ 43.21875 41.609375 39.140625 45 \nQ 35.0625 48.390625 27.6875 48.390625 \nQ 23 48.390625 18.546875 47.265625 \nQ 14.109375 46.140625 10.015625 43.890625 \nL 10.015625 52.203125 \nQ 14.9375 54.109375 19.578125 55.046875 \nQ 24.21875 56 28.609375 56 \nQ 40.484375 56 46.34375 49.84375 \nQ 52.203125 43.703125 52.203125 31.203125 \nz\n\" id=\"DejaVuSans-97\"/>\n     <path d=\"M 32.171875 -5.078125 \nQ 28.375 -14.84375 24.75 -17.8125 \nQ 21.140625 -20.796875 15.09375 -20.796875 \nL 7.90625 -20.796875 \nL 7.90625 -13.28125 \nL 13.1875 -13.28125 \nQ 16.890625 -13.28125 18.9375 -11.515625 \nQ 21 -9.765625 23.484375 -3.21875 \nL 25.09375 0.875 \nL 2.984375 54.6875 \nL 12.5 54.6875 \nL 29.59375 11.921875 \nL 46.6875 54.6875 \nL 56.203125 54.6875 \nz\n\" id=\"DejaVuSans-121\"/>\n     <path id=\"DejaVuSans-32\"/>\n    </defs>\n    <g transform=\"translate(168.025 16.318125)scale(0.12 -0.12)\">\n     <use xlink:href=\"#DejaVuSans-65\"/>\n     <use x=\"68.392578\" xlink:href=\"#DejaVuSans-99\"/>\n     <use x=\"123.373047\" xlink:href=\"#DejaVuSans-99\"/>\n     <use x=\"178.353516\" xlink:href=\"#DejaVuSans-117\"/>\n     <use x=\"241.732422\" xlink:href=\"#DejaVuSans-114\"/>\n     <use x=\"282.845703\" xlink:href=\"#DejaVuSans-97\"/>\n     <use x=\"344.125\" xlink:href=\"#DejaVuSans-99\"/>\n     <use x=\"399.105469\" xlink:href=\"#DejaVuSans-121\"/>\n     <use x=\"458.285156\" xlink:href=\"#DejaVuSans-32\"/>\n     <use x=\"490.072266\" xlink:href=\"#DejaVuSans-83\"/>\n     <use x=\"553.548828\" xlink:href=\"#DejaVuSans-99\"/>\n     <use x=\"608.529297\" xlink:href=\"#DejaVuSans-111\"/>\n     <use x=\"669.710938\" xlink:href=\"#DejaVuSans-114\"/>\n     <use x=\"710.792969\" xlink:href=\"#DejaVuSans-101\"/>\n    </g>\n   </g>\n  </g>\n </g>\n <defs>\n  <clipPath id=\"p30296b02f6\">\n   <rect height=\"217.44\" width=\"334.8\" x=\"46.965625\" y=\"22.318125\"/>\n  </clipPath>\n </defs>\n</svg>\n",
      "image/png": "[encoded data removed]"
     },
     "metadata": {
      "needs_background": "light"
     }
    }
   ],
   "source": [
    "# Plot\n",
    "plt.grid()\n",
    "plt.plot(EA)\n",
    "plt.title(\"Accuracy Score\")\n",
    "plt.ylim(0.00,110)\n",
    "plt.xlabel(\"Epochs\")\n",
    "plt.ylabel(\"Score\")\n",
    "plt.savefig(\"epochs.png\",dpi = 300)"
   ]
  },
  {
   "source": [
    "In the end, although the out-of-sample accuracy is relatively high, by selecting a better set of hyperparameters (number of epochs, batch size, number of neurons in the various layers, number of layers, etc..) we could obtain even better results."
   ],
   "cell_type": "markdown",
   "metadata": {}
  }
 ]
}